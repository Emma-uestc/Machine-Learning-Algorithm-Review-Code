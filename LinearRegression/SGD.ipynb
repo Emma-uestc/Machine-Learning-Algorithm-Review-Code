{
 "cells": [
  {
   "cell_type": "markdown",
   "metadata": {},
   "source": [
    "# SGD"
   ]
  },
  {
   "cell_type": "code",
   "execution_count": 1,
   "metadata": {
    "collapsed": true
   },
   "outputs": [],
   "source": [
    "import numpy as np\n",
    "import matplotlib.pyplot as plt"
   ]
  },
  {
   "cell_type": "code",
   "execution_count": 2,
   "metadata": {
    "collapsed": true
   },
   "outputs": [],
   "source": [
    "m = 100000\n",
    "x = np.random.normal(size = m)\n",
    "X= x.reshape(-1,1)\n",
    "y = 4.* x + 3. + np.random.normal(0,3,size = m)"
   ]
  },
  {
   "cell_type": "code",
   "execution_count": 3,
   "metadata": {},
   "outputs": [
    {
     "data": {
      "image/png": "[encoded data removed]",
      "text/plain": [
       "<matplotlib.figure.Figure at 0x1eeaefcba58>"
      ]
     },
     "metadata": {},
     "output_type": "display_data"
    }
   ],
   "source": [
    "plt.scatter(x,y)\n",
    "plt.show()"
   ]
  },
  {
   "cell_type": "code",
   "execution_count": 4,
   "metadata": {
    "collapsed": true
   },
   "outputs": [],
   "source": [
    "def J(theta,X_b,y):\n",
    "    try:\n",
    "        return np.sum((y - X_b.dot(theta)) ** 2) / (2 * len(y))\n",
    "    except:\n",
    "        return float('inf')\n",
    "    \n",
    "def dJ(theta,X_b,y):\n",
    "    return X_b.T.dot(X_b.dot(theta) - y) / len(y)\n",
    "\n",
    "def gradient_descent(X_b,y,init_theta,alpha ,n_iters = 1e6,epsilon = 1e-8):\n",
    "    theta = init_theta\n",
    "    i_iter = 0\n",
    "    while i_iter < n_iters:\n",
    "        d_theta = dJ(theta,X_b,y)\n",
    "        last_theta = theta\n",
    "        theta = theta - alpha * d_theta\n",
    "        if(abs(J(theta,X_b,y) - J(last_theta,X_b,y)) < epsilon):\n",
    "            break\n",
    "        i_iter += 1\n",
    "    return theta\n",
    "    "
   ]
  },
  {
   "cell_type": "code",
   "execution_count": 5,
   "metadata": {},
   "outputs": [
    {
     "name": "stdout",
     "output_type": "stream",
     "text": [
      "Wall time: 3.78 s\n"
     ]
    }
   ],
   "source": [
    "%%time\n",
    "X_b = np.hstack([np.ones((len(X),1)),X])\n",
    "init_theta = np.zeros(X_b.shape[1])\n",
    "alpha = 0.01\n",
    "theta = gradient_descent(X_b,y,init_theta,alpha)"
   ]
  },
  {
   "cell_type": "code",
   "execution_count": 6,
   "metadata": {},
   "outputs": [
    {
     "data": {
      "text/plain": [
       "array([ 3.01586622,  3.99163812])"
      ]
     },
     "execution_count": 6,
     "metadata": {},
     "output_type": "execute_result"
    }
   ],
   "source": [
    "theta"
   ]
  },
  {
   "cell_type": "markdown",
   "metadata": {},
   "source": [
    "## SGD"
   ]
  },
  {
   "cell_type": "code",
   "execution_count": 7,
   "metadata": {
    "collapsed": true
   },
   "outputs": [],
   "source": [
    "def dJ_sgd(theta,X_bi,y_i):\n",
    "    return X_bi.T.dot(X_bi.dot(theta) - y_i)\n",
    "\n",
    "def sgd(X_b,y,init_theta,n_iters):\n",
    "    t0,t1 = 5,50\n",
    "    def learning_rate(t):\n",
    "        return t0 /(t + t1)\n",
    "    theta = init_theta\n",
    "    for i_iter in range(n_iters):\n",
    "        rand_i = np.random.randint(len(X_b))\n",
    "        d_theta = dJ_sgd(theta,X_b[rand_i],y[rand_i])\n",
    "        theta = theta - learning_rate(i_iter) * d_theta\n",
    "        \n",
    "    return theta"
   ]
  },
  {
   "cell_type": "code",
   "execution_count": 8,
   "metadata": {},
   "outputs": [
    {
     "name": "stdout",
     "output_type": "stream",
     "text": [
      "Wall time: 442 ms\n"
     ]
    }
   ],
   "source": [
    "%%time\n",
    "X_b = np.hstack([np.ones((len(X),1)),X])\n",
    "init_theta = np.zeros(X_b.shape[1])\n",
    "theta = sgd(X_b,y,init_theta ,n_iters = m//3)"
   ]
  },
  {
   "cell_type": "code",
   "execution_count": 9,
   "metadata": {},
   "outputs": [
    {
     "data": {
      "text/plain": [
       "array([ 3.02969373,  4.00316302])"
      ]
     },
     "execution_count": 9,
     "metadata": {},
     "output_type": "execute_result"
    }
   ],
   "source": [
    "theta"
   ]
  },
  {
   "cell_type": "code",
   "execution_count": null,
   "metadata": {
    "collapsed": true
   },
   "outputs": [],
   "source": []
  }
 ],
 "metadata": {
  "kernelspec": {
   "display_name": "Python 3",
   "language": "python",
   "name": "python3"
  },
  "language_info": {
   "codemirror_mode": {
    "name": "ipython",
    "version": 3
   },
   "file_extension": ".py",
   "mimetype": "text/x-python",
   "name": "python",
   "nbconvert_exporter": "python",
   "pygments_lexer": "ipython3",
   "version": "3.6.3"
  }
 },
 "nbformat": 4,
 "nbformat_minor": 2
}
